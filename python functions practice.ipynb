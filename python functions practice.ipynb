{
 "cells": [
  {
   "cell_type": "code",
   "execution_count": 2,
   "metadata": {},
   "outputs": [
    {
     "name": "stdout",
     "output_type": "stream",
     "text": [
      "welcome to functions\n"
     ]
    }
   ],
   "source": [
    "def display():\n",
    "    print(\"welcome to functions\")\n",
    "display()"
   ]
  },
  {
   "cell_type": "code",
   "execution_count": 5,
   "metadata": {},
   "outputs": [
    {
     "name": "stdout",
     "output_type": "stream",
     "text": [
      "hello python welcome to functions\n"
     ]
    }
   ],
   "source": [
    "def display(str):\n",
    "    print(\"hello\",str,\"welcome to functions\")\n",
    "display(\"python\")"
   ]
  },
  {
   "cell_type": "code",
   "execution_count": 11,
   "metadata": {},
   "outputs": [
    {
     "name": "stdout",
     "output_type": "stream",
     "text": [
      "30\n"
     ]
    }
   ],
   "source": [
    "def add(a,b):\n",
    "    c=a+b\n",
    "    print(c)\n",
    "add(10,20)"
   ]
  },
  {
   "cell_type": "code",
   "execution_count": 12,
   "metadata": {},
   "outputs": [
    {
     "name": "stdout",
     "output_type": "stream",
     "text": [
      "30\n"
     ]
    }
   ],
   "source": [
    "def add(a,b):\n",
    "    c=a+b\n",
    "    return c\n",
    "res=add(10,20)\n",
    "print(res)"
   ]
  },
  {
   "cell_type": "code",
   "execution_count": 21,
   "metadata": {},
   "outputs": [],
   "source": [
    "of=open(\"malli.txt\",\"w\")\n",
    "of.write(\"hello welocone to files\")\n",
    "l=[\"\\nthis\\n\",\"is\\n\",\"mallikarjun\\n\"]\n",
    "of.writelines(l)\n",
    "of.close()"
   ]
  },
  {
   "cell_type": "code",
   "execution_count": 23,
   "metadata": {},
   "outputs": [
    {
     "name": "stdout",
     "output_type": "stream",
     "text": [
      "['hello welocone to files\\n', 'this\\n', 'is\\n', 'mallikarjun\\n']\n"
     ]
    }
   ],
   "source": [
    "of1=open(\"malli.txt\",\"r\")\n",
    "print(of1.readlines())\n",
    "of1.close()"
   ]
  },
  {
   "cell_type": "code",
   "execution_count": 24,
   "metadata": {},
   "outputs": [
    {
     "name": "stdout",
     "output_type": "stream",
     "text": [
      "hello\n"
     ]
    }
   ],
   "source": [
    "of1=open(\"malli.txt\",\"r\")\n",
    "print(of1.read(5))\n",
    "of1.close()"
   ]
  },
  {
   "cell_type": "code",
   "execution_count": 28,
   "metadata": {},
   "outputs": [
    {
     "name": "stdout",
     "output_type": "stream",
     "text": [
      "0\n",
      "3\n",
      "3\n"
     ]
    }
   ],
   "source": [
    "of=open(\"malli.txt\",\"w\")\n",
    "print(of.tell())\n",
    "print(of.seek(3))\n",
    "print(of.tell())\n",
    "of.close()"
   ]
  },
  {
   "cell_type": "code",
   "execution_count": 29,
   "metadata": {},
   "outputs": [],
   "source": [
    "with open (\"malli.txt\",\"w\") as of:\n",
    "    of.write(\"mallikarjun pretty good at python\")"
   ]
  },
  {
   "cell_type": "code",
   "execution_count": null,
   "metadata": {},
   "outputs": [],
   "source": []
  }
 ],
 "metadata": {
  "kernelspec": {
   "display_name": "Python 3",
   "language": "python",
   "name": "python3"
  },
  "language_info": {
   "codemirror_mode": {
    "name": "ipython",
    "version": 3
   },
   "file_extension": ".py",
   "mimetype": "text/x-python",
   "name": "python",
   "nbconvert_exporter": "python",
   "pygments_lexer": "ipython3",
   "version": "3.7.4"
  }
 },
 "nbformat": 4,
 "nbformat_minor": 2
}
