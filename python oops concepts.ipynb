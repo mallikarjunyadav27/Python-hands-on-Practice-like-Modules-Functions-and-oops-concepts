{
 "cells": [
  {
   "cell_type": "code",
   "execution_count": 19,
   "metadata": {},
   "outputs": [
    {
     "name": "stdout",
     "output_type": "stream",
     "text": [
      "white 4.5 76\n",
      "normal 5.6 45\n",
      "malli the human is running\n"
     ]
    }
   ],
   "source": [
    "#single inheritance\n",
    "class human:              #object\n",
    "    def __init__(self,c,h,w):        #constructor\n",
    "        self.color=c\n",
    "        self.height=h\n",
    "        self.weight=w\n",
    "    def run(self,n):\n",
    "        print(n+\" \"+\"the human is running\")\n",
    "    def walking(self):\n",
    "        print(\"the human is walking\")\n",
    "malli=human(\"white\",4.5,76)             #object\n",
    "print(malli.color,malli.height,malli.weight)\n",
    "sai=human(\"normal\",5.6,45)\n",
    "print(sai.color,sai.height,sai.weight)\n",
    "malli.run(\"malli\")"
   ]
  },
  {
   "cell_type": "code",
   "execution_count": 27,
   "metadata": {},
   "outputs": [
    {
     "name": "stdout",
     "output_type": "stream",
     "text": [
      "100 200 400 500\n",
      "derived class\n",
      "baseclass\n"
     ]
    }
   ],
   "source": [
    "#single inheritance\n",
    "class baseclass:\n",
    "    a=100\n",
    "    b=200\n",
    "    def display(self):\n",
    "        print(\"baseclass\")\n",
    "class derivedclass(baseclass):\n",
    "    c=400\n",
    "    d=500\n",
    "    def show(self):\n",
    "        print(\"derived class\")\n",
    "fk=derivedclass()\n",
    "print(fk.a,fk.b,fk.c,fk.d)\n",
    "fk.show()\n",
    "fk.display()"
   ]
  },
  {
   "cell_type": "code",
   "execution_count": 31,
   "metadata": {},
   "outputs": [
    {
     "name": "stdout",
     "output_type": "stream",
     "text": [
      "grantparent\n",
      "parentclass\n",
      "childclass\n"
     ]
    }
   ],
   "source": [
    "#multilevel inheritance\n",
    "class grandparent:\n",
    "    def display(self):\n",
    "        print(\"grantparent\")\n",
    "class parentclass(grandparent):\n",
    "    def show(self):\n",
    "        print(\"parentclass\")\n",
    "class childclass(parentclass):\n",
    "    def cdisplay(self):\n",
    "        print(\"childclass\")\n",
    "c=childclass()\n",
    "c.display()\n",
    "c.show()\n",
    "c.cdisplay()"
   ]
  },
  {
   "cell_type": "code",
   "execution_count": 34,
   "metadata": {},
   "outputs": [
    {
     "name": "stdout",
     "output_type": "stream",
     "text": [
      "daughter class\n",
      "parentclass\n",
      "sonsclass\n",
      "parentclass\n"
     ]
    }
   ],
   "source": [
    "#hierachial inheritance\n",
    "class Parent:\n",
    "    def display(self):\n",
    "        print(\"parentclass\")\n",
    "class Son(Parent):\n",
    "    def sdisplay(self):\n",
    "        print(\"sonsclass\")\n",
    "class Daugther(Parent):\n",
    "    def Ddisplay(self):\n",
    "        print(\"daughter class\")\n",
    "d=Daugther()\n",
    "d.Ddisplay()\n",
    "d.display()\n",
    "s=Son()\n",
    "s.sdisplay()\n",
    "s.display()\n",
    "        "
   ]
  },
  {
   "cell_type": "code",
   "execution_count": 35,
   "metadata": {},
   "outputs": [
    {
     "name": "stdout",
     "output_type": "stream",
     "text": [
      "fatherclass\n",
      "mother class\n",
      "child class\n"
     ]
    }
   ],
   "source": [
    "#multiple inheritance\n",
    "class father:\n",
    "    def display(self):\n",
    "        print(\"fatherclass\")\n",
    "class mother:\n",
    "    def mdisplay(self):\n",
    "        print(\"mother class\")\n",
    "class child(father,mother):\n",
    "    def cdisplay(self):\n",
    "        print(\"child class\")\n",
    "c=child()\n",
    "c.display()\n",
    "c.mdisplay()\n",
    "c.cdisplay()\n",
    "        "
   ]
  },
  {
   "cell_type": "code",
   "execution_count": 43,
   "metadata": {},
   "outputs": [
    {
     "name": "stdout",
     "output_type": "stream",
     "text": [
      "1400\n",
      "600\n",
      "2100\n"
     ]
    }
   ],
   "source": [
    "#polymorphism\n",
    "#compile time (doesnot support methodoverloading directly but it can do dby giving default arguments)\n",
    "class demo:\n",
    "    def add(self,a=100,b=1000,c=300):\n",
    "        print(a+b+c)\n",
    "o=demo()\n",
    "o.add()\n",
    "o.add(100,200,300)\n",
    "o.add(800)\n",
    "        "
   ]
  },
  {
   "cell_type": "code",
   "execution_count": 44,
   "metadata": {},
   "outputs": [
    {
     "name": "stdout",
     "output_type": "stream",
     "text": [
      "bicycle\n"
     ]
    }
   ],
   "source": [
    "#method over riding\n",
    "class parent:\n",
    "    def transport(self):\n",
    "        print(\"cycle\")\n",
    "class child(parent):\n",
    "    def transport(self):\n",
    "        print(\"bicycle\")\n",
    "p=child()\n",
    "p.transport()\n",
    "    "
   ]
  },
  {
   "cell_type": "code",
   "execution_count": 13,
   "metadata": {},
   "outputs": [
    {
     "name": "stdout",
     "output_type": "stream",
     "text": [
      "housing price 89\n",
      "vechicle interest 78\n"
     ]
    }
   ],
   "source": [
    "#Abstraction method\n",
    "from abc import ABC,abstractmethod\n",
    "class abstractDemo(ABC):                #abstract class\n",
    "    @abstractmethod\n",
    "    def housinginterest(self):\n",
    "        None\n",
    "    @abstractmethod\n",
    "    def vechicleinterest(self):\n",
    "        None\n",
    "class Sbi(abstractDemo):                 #concerete class\n",
    "    def housinginterest(self):\n",
    "        print(\"housing price 89\")\n",
    "    def vechicleinterest(self):\n",
    "        print(\"vechicle interest 78\")\n",
    "obj=Sbi()\n",
    "obj.housinginterest()\n",
    "obj.vechicleinterest()\n",
    "        \n",
    "    \n",
    "        "
   ]
  },
  {
   "cell_type": "code",
   "execution_count": 22,
   "metadata": {},
   "outputs": [
    {
     "name": "stdout",
     "output_type": "stream",
     "text": [
      "200\n",
      "100\n",
      "something\n"
     ]
    }
   ],
   "source": [
    "#Encapsulation method\n",
    "class demo:\n",
    "    __a=100\n",
    "    b=200\n",
    "    def __display(self):\n",
    "        print(self.__a)\n",
    "        print(\"something\")\n",
    "    def show(self):\n",
    "        self.__display()\n",
    "obj=demo()\n",
    "print(obj.b)\n",
    "obj.show()"
   ]
  },
  {
   "cell_type": "code",
   "execution_count": null,
   "metadata": {},
   "outputs": [],
   "source": []
  }
 ],
 "metadata": {
  "kernelspec": {
   "display_name": "Python 3",
   "language": "python",
   "name": "python3"
  },
  "language_info": {
   "codemirror_mode": {
    "name": "ipython",
    "version": 3
   },
   "file_extension": ".py",
   "mimetype": "text/x-python",
   "name": "python",
   "nbconvert_exporter": "python",
   "pygments_lexer": "ipython3",
   "version": "3.7.4"
  }
 },
 "nbformat": 4,
 "nbformat_minor": 2
}
